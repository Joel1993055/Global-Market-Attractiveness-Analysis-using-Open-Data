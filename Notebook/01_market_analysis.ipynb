{
 "cells": [
  {
   "cell_type": "markdown",
   "id": "ad3effa8",
   "metadata": {},
   "source": [
    "# Market Analysis – World Bank API\n",
    "This notebook fetches 4 key indicators from the World Bank API for 2022 to evaluate international market attractiveness."
   ]
  },
  {
   "cell_type": "code",
   "execution_count": null,
   "id": "aad59bba",
   "metadata": {},
   "outputs": [],
   "source": [
    "import wbdata\n",
    "import pandas as pd\n",
    "import datetime\n"
   ]
  },
  {
   "cell_type": "code",
   "execution_count": null,
   "id": "15779738",
   "metadata": {},
   "outputs": [],
   "source": [
    "# Define the indicators and year\n",
    "indicators = {\n",
    "    'NY.GDP.PCAP.CD': 'GDP_per_capita',\n",
    "    'SP.POP.TOTL': 'Population',\n",
    "    'IT.NET.USER.ZS': 'Internet_pct',\n",
    "    'NE.EXP.GNFS.ZS': 'Exports_pct_GDP'\n",
    "}\n",
    "data_date = datetime.datetime(2022, 1, 1)\n"
   ]
  },
  {
   "cell_type": "code",
   "execution_count": null,
   "id": "9349000a",
   "metadata": {},
   "outputs": [],
   "source": [
    "# Download data from World Bank\n",
    "df = wbdata.get_dataframe(indicators, data_date=data_date, convert_date=False)\n",
    "df = df.reset_index()\n",
    "df.head()\n"
   ]
  },
  {
   "cell_type": "code",
   "execution_count": null,
   "id": "fa799ebc",
   "metadata": {},
   "outputs": [],
   "source": [
    "# Drop rows with any missing values\n",
    "df_clean = df.dropna()\n",
    "df_clean.head()\n"
   ]
  },
  {
   "cell_type": "code",
   "execution_count": null,
   "id": "8ea265b1",
   "metadata": {},
   "outputs": [],
   "source": [
    "# Optional: save the clean data to CSV\n",
    "df_clean.to_csv(\"market_indicators_2022.csv\", index=False)\n"
   ]
  }
 ],
 "metadata": {},
 "nbformat": 4,
 "nbformat_minor": 5
}