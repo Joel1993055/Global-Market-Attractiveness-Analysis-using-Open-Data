{
 "cells": [
  {
   "cell_type": "markdown",
   "id": "0c4843da",
   "metadata": {},
   "source": [
    "# 🌍 Global Market Attractiveness Analysis using Open Data\n",
    "\n",
    "This notebook connects to the World Bank API to fetch economic, demographic, and digital indicators for each country in 2022. It then calculates a Market Attractiveness Score and visualizes the top countries using a bar chart and a choropleth map."
   ]
  },
  {
   "cell_type": "markdown",
   "id": "48967d76",
   "metadata": {},
   "source": [
    "## Step 1: Import libraries and fetch data"
   ]
  },
  {
   "cell_type": "code",
   "execution_count": null,
   "id": "92a7b1d5",
   "metadata": {},
   "outputs": [],
   "source": [
  "!pip install wbdata\n",
  "\n",
  "import wbdata\n",
  "import pandas as pd\n",
  "import datetime\n",
  "from sklearn.preprocessing import MinMaxScaler\n",
  "import matplotlib.pyplot as plt\n",
  "import plotly.express as px\n"
]
  },
  {
   "cell_type": "code",
   "execution_count": null,
   "id": "251ac453",
   "metadata": {},
   "outputs": [],
   "source": [
    "indicators = {\n",
    "    'NY.GDP.PCAP.CD': 'GDP_per_capita',\n",
    "    'SP.POP.TOTL': 'Population',\n",
    "    'IT.NET.USER.ZS': 'Internet_pct',\n",
    "    'NE.EXP.GNFS.ZS': 'Exports_pct_GDP'\n",
    "}\n",
    "data_date = datetime.datetime(2022, 1, 1)\n"
   ]
  },
  {
   "cell_type": "code",
   "execution_count": null,
   "id": "1f60e185",
   "metadata": {},
   "outputs": [],
   "source": [
    "df = wbdata.get_dataframe(indicators, data_date=data_date, convert_date=False)\n",
    "df = df.reset_index()\n",
    "df = df.dropna()\n",
    "df.head()\n"
   ]
  },
  {
   "cell_type": "markdown",
   "id": "9f6fd101",
   "metadata": {},
   "source": [
    "## Step 2: Normalize the Data and Calculate Market Attractiveness Score"
   ]
  },
  {
   "cell_type": "code",
   "execution_count": null,
   "id": "58389ca3",
   "metadata": {},
   "outputs": [],
   "source": [
    "columns_to_normalize = ['GDP_per_capita', 'Population', 'Internet_pct', 'Exports_pct_GDP']\n",
    "\n",
    "scaler = MinMaxScaler()\n",
    "df_normalized = df.copy()\n",
    "\n",
    "df_normalized[['GDP_norm', 'Pop_norm', 'Internet_norm', 'Export_norm']] = scaler.fit_transform(\n",
    "    df_normalized[columns_to_normalize]\n",
    ")\n"
   ]
  },
  {
   "cell_type": "code",
   "execution_count": null,
   "id": "cf3a4007",
   "metadata": {},
   "outputs": [],
   "source": [
    "df_normalized['Market_Attractiveness_Score'] = (\n",
    "    0.3 * df_normalized['GDP_norm'] +\n",
    "    0.25 * df_normalized['Pop_norm'] +\n",
    "    0.25 * df_normalized['Internet_norm'] +\n",
    "    0.2 * df_normalized['Export_norm']\n",
    ")\n"
   ]
  },
  {
   "cell_type": "code",
   "execution_count": null,
   "id": "b598f409",
   "metadata": {},
   "outputs": [],
   "source": [
    "df_ranked = df_normalized[['Country', 'Market_Attractiveness_Score']].sort_values(\n",
    "    by='Market_Attractiveness_Score', ascending=False\n",
    ")\n",
    "df_ranked.head(10)\n"
   ]
  },
  {
   "cell_type": "markdown",
   "id": "dd124219",
   "metadata": {},
   "source": [
    "## Step 3: Visualize Top Countries (Bar Chart)"
   ]
  },
  {
   "cell_type": "code",
   "execution_count": null,
   "id": "7929dcd6",
   "metadata": {},
   "outputs": [],
   "source": [
    "top10 = df_ranked.head(10)\n",
    "\n",
    "plt.figure(figsize=(10,6))\n",
    "plt.barh(top10['Country'][::-1], top10['Market_Attractiveness_Score'][::-1], color='skyblue')\n",
    "plt.xlabel(\"Market Attractiveness Score\")\n",
    "plt.title(\"Top 10 Most Attractive Countries\")\n",
    "plt.tight_layout()\n",
    "plt.show()\n"
   ]
  },
  {
   "cell_type": "markdown",
   "id": "aa7264da",
   "metadata": {},
   "source": [
    "## Step 4: Global Choropleth Map"
   ]
  },
  {
   "cell_type": "code",
   "execution_count": null,
   "id": "be261e73",
   "metadata": {},
   "outputs": [],
   "source": [
    "fig = px.choropleth(\n",
    "    df_normalized,\n",
    "    locations=\"Country\",\n",
    "    locationmode=\"country names\",\n",
    "    color=\"Market_Attractiveness_Score\",\n",
    "    hover_name=\"Country\",\n",
    "    color_continuous_scale=\"Viridis\",\n",
    "    title=\"Global Market Attractiveness Score by Country\"\n",
    ")\n",
    "fig.show()\n"
   ]
  }
 ],
 "metadata": {},
 "nbformat": 4,
 "nbformat_minor": 5
}
