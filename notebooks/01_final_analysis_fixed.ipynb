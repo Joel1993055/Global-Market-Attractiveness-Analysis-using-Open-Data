{
 "cells": [
  {
   "cell_type": "markdown",
   "id": "ea199315",
   "metadata": {},
   "source": [
    "# 🌍 Global Market Attractiveness Analysis using Open Data\n",
    "\n",
    "This notebook fetches data from the World Bank API to calculate a Market Attractiveness Score for countries based on key economic and digital indicators."
   ]
  },
  {
   "cell_type": "code",
   "execution_count": null,
   "id": "50108338",
   "metadata": {},
   "outputs": [],
   "source": [
    "# Install wbdata if needed (for Google Colab)\n",
    "!pip install wbdata\n"
   ]
  },
  {
   "cell_type": "code",
   "execution_count": null,
   "id": "6f5fb243",
   "metadata": {},
   "outputs": [],
   "source": [
    "import wbdata\n",
    "import pandas as pd\n",
    "import datetime\n",
    "from sklearn.preprocessing import MinMaxScaler\n",
    "import matplotlib.pyplot as plt\n",
    "import plotly.express as px\n"
   ]
  },
  {
   "cell_type": "code",
   "execution_count": null,
   "id": "d325f8c3",
   "metadata": {},
   "outputs": [],
   "source": [
    "# Define indicators and date range\n",
    "indicators = {\n",
    "    'NY.GDP.PCAP.CD': 'GDP_per_capita',\n",
    "    'SP.POP.TOTL': 'Population',\n",
    "    'IT.NET.USER.ZS': 'Internet_pct',\n",
    "    'NE.EXP.GNFS.ZS': 'Exports_pct_GDP'\n",
    "}\n",
    "\n",
    "start_date = datetime.datetime(2022, 1, 1)\n",
    "end_date = datetime.datetime(2022, 12, 31)\n"
   ]
  },
  {
   "cell_type": "code",
   "execution_count": null,
   "id": "75360eb1",
   "metadata": {},
   "outputs": [],
   "source": [
    "# Fetch data from World Bank API\n",
    "df = wbdata.get_dataframe(indicators, country='all', data_date=(start_date, end_date), convert_date=False)\n",
    "df = df.reset_index()\n",
    "df = df.dropna()\n",
    "df.head()\n"
   ]
  },
  {
   "cell_type": "markdown",
   "id": "01fd40c2",
   "metadata": {},
   "source": [
    "## Normalize Data and Calculate Score"
   ]
  },
  {
   "cell_type": "code",
   "execution_count": null,
   "id": "77f3ab3a",
   "metadata": {},
   "outputs": [],
   "source": [
    "columns_to_normalize = ['GDP_per_capita', 'Population', 'Internet_pct', 'Exports_pct_GDP']\n",
    "\n",
    "scaler = MinMaxScaler()\n",
    "df_normalized = df.copy()\n",
    "\n",
    "df_normalized[['GDP_norm', 'Pop_norm', 'Internet_norm', 'Export_norm']] = scaler.fit_transform(\n",
    "    df_normalized[columns_to_normalize]\n",
    ")\n"
   ]
  },
  {
   "cell_type": "code",
   "execution_count": null,
   "id": "8181ac1d",
   "metadata": {},
   "outputs": [],
   "source": [
    "df_normalized['Market_Attractiveness_Score'] = (\n",
    "    0.3 * df_normalized['GDP_norm'] +\n",
    "    0.25 * df_normalized['Pop_norm'] +\n",
    "    0.25 * df_normalized['Internet_norm'] +\n",
    "    0.2 * df_normalized['Export_norm']\n",
    ")\n"
   ]
  },
  {
   "cell_type": "code",
   "execution_count": null,
   "id": "b26559f9",
   "metadata": {},
   "outputs": [],
   "source": [
    "df_ranked = df_normalized[['Country', 'Market_Attractiveness_Score']].sort_values(\n",
    "    by='Market_Attractiveness_Score', ascending=False\n",
    ")\n",
    "df_ranked.head(10)\n"
   ]
  },
  {
   "cell_type": "markdown",
   "id": "eb28dac0",
   "metadata": {},
   "source": [
    "## Bar Chart: Top 10 Countries"
   ]
  },
  {
   "cell_type": "code",
   "execution_count": null,
   "id": "939e920c",
   "metadata": {},
   "outputs": [],
   "source": [
    "top10 = df_ranked.head(10)\n",
    "\n",
    "plt.figure(figsize=(10,6))\n",
    "plt.barh(top10['Country'][::-1], top10['Market_Attractiveness_Score'][::-1], color='skyblue')\n",
    "plt.xlabel(\"Market Attractiveness Score\")\n",
    "plt.title(\"Top 10 Most Attractive Countries\")\n",
    "plt.tight_layout()\n",
    "plt.show()\n"
   ]
  },
  {
   "cell_type": "markdown",
   "id": "d0c9c744",
   "metadata": {},
   "source": [
    "## Global Map"
   ]
  },
  {
   "cell_type": "code",
   "execution_count": null,
   "id": "d005160d",
   "metadata": {},
   "outputs": [],
   "source": [
    "fig = px.choropleth(\n",
    "    df_normalized,\n",
    "    locations=\"Country\",\n",
    "    locationmode=\"country names\",\n",
    "    color=\"Market_Attractiveness_Score\",\n",
    "    hover_name=\"Country\",\n",
    "    color_continuous_scale=\"Viridis\",\n",
    "    title=\"Global Market Attractiveness Score by Country\"\n",
    ")\n",
    "fig.show()\n"
   ]
  }
 ],
 "metadata": {},
 "nbformat": 4,
 "nbformat_minor": 5
}