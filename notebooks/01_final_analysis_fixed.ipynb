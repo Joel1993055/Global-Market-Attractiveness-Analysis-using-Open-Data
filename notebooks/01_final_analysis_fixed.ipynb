# ✅ Instalar librerías necesarias (solo la primera vez)
!pip install wbdata plotly scikit-learn

# 📚 Importar librerías
import wbdata
import pandas as pd
from datetime import datetime
from sklearn.preprocessing import MinMaxScaler
import plotly.express as px

# 🎯 Definir indicadores del Banco Mundial
indicators = {
    'NY.GDP.MKTP.CD': 'GDP',
    'SP.POP.TOTL': 'Population',
    'IT.NET.USER.ZS': 'Internet_Pct'
}

# 📅 Año de análisis
year = 2022

# 📥 Descargar datos desde la API del Banco Mundial
df = wbdata.get_dataframe(indicators, country='all', convert_date=True)

# 🧼 Filtrar por año y limpiar datos
df = df[df.index.get_level_values(1).year == year]
df = df.reset_index().drop(columns='date')
df = df.dropna()

# 💰 Calcular PIB per cápita
df['GDP_per_capita'] = df['GDP'] / df['Population']

# 📏 Normalizar variables con MinMaxScaler
scaler = MinMaxScaler()
df[['GDP_per_capita_norm', 'Internet_Pct_norm', 'Population_norm']] = scaler.fit_transform(
    df[['GDP_per_capita', 'Internet_Pct', 'Population']]
)

# 📊 Crear índice de atractivo de mercado
df['Market_Attractiveness'] = df[['GDP_per_capita_norm', 'Internet_Pct_norm', 'Population_norm']].mean(axis=1)

# 📈 Ordenar resultados
df_final = df[['country', 'GDP_per_capita', 'Internet_Pct', 'Population', 'Market_Attractiveness']]
df_final = df_final.sort_values(by='Market_Attractiveness', ascending=False)

# 🔝 Mostrar los 10 países más atractivos
df_final.head(10)
