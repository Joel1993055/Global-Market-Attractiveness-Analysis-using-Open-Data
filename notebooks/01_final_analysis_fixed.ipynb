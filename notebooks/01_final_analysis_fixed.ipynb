# 📦 Instala la librería si aún no la tienes (solo una vez)
!pip install wbdata

# 📚 Importar librerías necesarias
import wbdata
import pandas as pd
from datetime import datetime
from sklearn.preprocessing import MinMaxScaler
import plotly.express as px

# 🎯 Definir indicadores del Banco Mundial
indicators = {
    'NY.GDP.MKTP.CD': 'GDP',             # Producto Interno Bruto
    'SP.POP.TOTL': 'Population',         # Población total
    'IT.NET.USER.ZS': 'Internet_Pct'     # % de personas que usan internet
}

# 📅 Año a analizar
year = 2022

# 📤 Descargar datos desde World Bank API
df = wbdata.get_dataframe(indicators, country='all', convert_date=True)

# 📊 Filtrar solo el año deseado
df = df[df.index.get_level_values(1).year == year]

# 🧼 Limpiar y preparar el DataFrame
df = df.reset_index().drop(columns='date')
df = df.dropna()

# 💰 Calcular PIB per cápita
df['GDP_per_capita'] = df['GDP'] / df['Population']

# 📏 Normalizar variables
scaler = MinMaxScaler()
df_scaled = df.copy()
df_scaled[['GDP_per_capita', 'Internet_Pct', 'Population']] = scaler.fit_transform(
    df[['GDP_per_capita', 'Internet_Pct', 'Population']]
)

# 🧠 Crear índice de atractivo de mercado
df_scaled['Market_Attractiveness'] = df_scaled[['GDP_per_capita', 'Internet_Pct', 'Population']].mean(axis=1)

# 📦 Seleccionar y ordenar
df_final = df_scaled[['country', 'GDP_per_capita', 'Internet_Pct', 'Population', 'Market_Attractiveness']]
df_final = df_final.sort_values(by='Market_Attractiveness', ascending=False)

# 🔝 Mostrar las 10 economías más atractivas según el índice
df_final.head(10)
