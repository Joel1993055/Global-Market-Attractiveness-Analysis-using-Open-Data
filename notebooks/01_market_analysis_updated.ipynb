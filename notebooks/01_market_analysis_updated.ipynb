{
 "cells": [
  {
   "cell_type": "markdown",
   "id": "ad3effa8",
   "metadata": {},
   "source": [
    "# Market Analysis – World Bank API\n",
    "This notebook fetches 4 key indicators from the World Bank API for 2022 to evaluate international market attractiveness."
   ]
  },
  {
   "cell_type": "code",
   "execution_count": null,
   "id": "aad59bba",
   "metadata": {},
   "outputs": [],
   "source": [
    "import wbdata\n",
    "import pandas as pd\n",
    "import datetime\n"
   ]
  },
  {
   "cell_type": "code",
   "execution_count": null,
   "id": "15779738",
   "metadata": {},
   "outputs": [],
   "source": [
    "# Define the indicators and year\n",
    "indicators = {\n",
    "    'NY.GDP.PCAP.CD': 'GDP_per_capita',\n",
    "    'SP.POP.TOTL': 'Population',\n",
    "    'IT.NET.USER.ZS': 'Internet_pct',\n",
    "    'NE.EXP.GNFS.ZS': 'Exports_pct_GDP'\n",
    "}\n",
    "data_date = datetime.datetime(2022, 1, 1)\n"
   ]
  },
  {
   "cell_type": "code",
   "execution_count": null,
   "id": "9349000a",
   "metadata": {},
   "outputs": [],
   "source": [
    "# Download data from World Bank\n",
    "df = wbdata.get_dataframe(indicators, data_date=data_date, convert_date=False)\n",
    "df = df.reset_index()\n",
    "df.head()\n"
   ]
  },
  {
   "cell_type": "code",
   "execution_count": null,
   "id": "fa799ebc",
   "metadata": {},
   "outputs": [],
   "source": [
    "# Drop rows with any missing values\n",
    "df_clean = df.dropna()\n",
    "df_clean.head()\n"
   ]
  },
  {
   "cell_type": "code",
   "execution_count": null,
   "id": "8ea265b1",
   "metadata": {},
   "outputs": [],
   "source": [
    "# Optional: save the clean data to CSV\n",
    "df_clean.to_csv(\"market_indicators_2022.csv\", index=False)\n"
   ]
  },
  {
   "cell_type": "markdown",
   "id": "cdef7efb",
   "metadata": {},
   "source": [
    "## Step 2: Normalize the Data and Calculate Market Attractiveness Score"
   ]
  },
  {
   "cell_type": "code",
   "execution_count": null,
   "id": "7fc3ac34",
   "metadata": {},
   "outputs": [],
   "source": [
    "from sklearn.preprocessing import MinMaxScaler\n"
   ]
  },
  {
   "cell_type": "code",
   "execution_count": null,
   "id": "d74b4ee2",
   "metadata": {},
   "outputs": [],
   "source": [
    "# Columns to normalize\n",
    "columns_to_normalize = ['GDP_per_capita', 'Population', 'Internet_pct', 'Exports_pct_GDP']\n"
   ]
  },
  {
   "cell_type": "code",
   "execution_count": null,
   "id": "6ad0b303",
   "metadata": {},
   "outputs": [],
   "source": [
    "# Apply MinMax scaling\n",
    "scaler = MinMaxScaler()\n",
    "df_normalized = df_clean.copy()\n",
    "\n",
    "df_normalized[['GDP_norm', 'Pop_norm', 'Internet_norm', 'Export_norm']] = scaler.fit_transform(\n",
    "    df_normalized[columns_to_normalize]\n",
    ")\n"
   ]
  },
  {
   "cell_type": "code",
   "execution_count": null,
   "id": "142dc860",
   "metadata": {},
   "outputs": [],
   "source": [
    "# Compute Market Attractiveness Score with custom weights\n",
    "df_normalized['Market_Attractiveness_Score'] = (\n",
    "    0.3 * df_normalized['GDP_norm'] +\n",
    "    0.25 * df_normalized['Pop_norm'] +\n",
    "    0.25 * df_normalized['Internet_norm'] +\n",
    "    0.2 * df_normalized['Export_norm']\n",
    ")\n"
   ]
  },
  {
   "cell_type": "code",
   "execution_count": null,
   "id": "b59f6bda",
   "metadata": {},
   "outputs": [],
   "source": [
    "# Show top 10 countries\n",
    "df_ranked = df_normalized[['Country', 'Market_Attractiveness_Score']].sort_values(\n",
    "    by='Market_Attractiveness_Score', ascending=False\n",
    ")\n",
    "df_ranked.head(10)\n"
   ]
  }
 ],
 "metadata": {},
 "nbformat": 4,
 "nbformat_minor": 5
}