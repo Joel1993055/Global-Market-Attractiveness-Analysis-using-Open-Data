{
 "cells": [
  {
   "cell_type": "markdown",
   "metadata": {},
   "source": [
    "# 🌍 Global Market Attractiveness Analysis\n",
    "\n",
    "This notebook analyzes key socio-economic indicators to evaluate the attractiveness of international markets."
   ]
  },
  {
   "cell_type": "code",
   "execution_count": null,
   "metadata": {},
   "outputs": [],
   "source": [
    "import pandas as pd\n",
    "from sklearn.preprocessing import MinMaxScaler\n",
    "import plotly.express as px"
   ]
  },
  {
   "cell_type": "markdown",
   "metadata": {},
   "source": ["## 📥 Load CSV files (from World Bank & Our World in Data)"]
  },
  {
   "cell_type": "code",
   "execution_count": null,
   "metadata": {},
   "outputs": [],
   "source": [
    "df_gdp = pd.read_csv('data/API_NY.GDP.MKTP.CD_DS2_en_csv_v2_370168.csv', skiprows=4)
    df_growth = pd.read_csv('data/API_NY.GDP.MKTP.KD.ZG_DS2_en_csv_v2_369935.csv', skiprows=4)
    df_population = pd.read_csv('data/API_SP.POP.TOTL_DS2_en_csv_v2_370004.csv', skiprows=4)
    df_internet = pd.read_csv('data/share-of-individuals-using-the-internet.csv')"

   ]
  },
  {
   "cell_type": "markdown",
   "metadata": {},
   "source": ["## 🧼 Clean and prepare datasets"]
  },
  {
   "cell_type": "code",
   "execution_count": null,
   "metadata": {},
   "outputs": [],
   "source": [
    "# Use year 2022 as the latest complete year\n",
    "latest_year = '2022'\n",
    "\n",
    "df_gdp_clean = df_gdp[['Country Name', latest_year]].rename(columns={latest_year: 'GDP'})\n",
    "df_growth_clean = df_growth[['Country Name', latest_year]].rename(columns={latest_year: 'GDP_growth'})\n",
    "df_population_clean = df_population[['Country Name', latest_year]].rename(columns={latest_year: 'Population'})\n",
    "\n",
    "# Internet users: filter only 2022\n",
    "df_internet_clean = df_internet[df_internet['Year'] == 2022][['Entity', 'Individuals using the Internet (% of population)']]\n",
    "df_internet_clean = df_internet_clean.rename(columns={'Entity': 'Country Name', 'Individuals using the Internet (% of population)': 'Internet_Usage'})"
   ]
  },
  {
   "cell_type": "markdown",
   "metadata": {},
   "source": ["## 🔗 Merge datasets"]
  },
  {
   "cell_type": "code",
   "execution_count": null,
   "metadata": {},
   "outputs": [],
   "source": [
    "df_merged = df_gdp_clean.merge(df_growth_clean, on='Country Name')\\\n",
    "                         .merge(df_population_clean, on='Country Name')\\\n",
    "                         .merge(df_internet_clean, on='Country Name')\n",
    "\n",
    "# Drop missing values\n",
    "df_merged = df_merged.dropna()\n",
    "df_merged.head()"
   ]
  },
  {
   "cell_type": "markdown",
   "metadata": {},
   "source": ["## 📊 Normalize indicators for comparison"]
  },
  {
   "cell_type": "code",
   "execution_count": null,
   "metadata": {},
   "outputs": [],
   "source": [
    "scaler = MinMaxScaler()\n",
    "df_scaled = df_merged.copy()\n",
    "df_scaled[['GDP_norm', 'GDP_growth_norm', 'Population_norm', 'Internet_Usage_norm']] = scaler.fit_transform(\n",
    "    df_scaled[['GDP', 'GDP_growth', 'Population', 'Internet_Usage']]\n",
    ")\n",
    "df_scaled.head()"
   ]
  },
  {
   "cell_type": "markdown",
   "metadata": {},
   "source": ["## 🌐 Visualize market attractiveness"]
  },
  {
   "cell_type": "code",
   "execution_count": null,
   "metadata": {},
   "outputs": [],
   "source": [
    "fig = px.scatter(df_scaled, \n",
    "                 x='GDP_norm', y='Internet_Usage_norm', \n",
    "                 size='Population_norm', \n",
    "                 color='GDP_growth_norm',\n",
    "                 hover_name='Country Name',\n",
    "                 title='Global Market Attractiveness: GDP vs Internet Usage')\n",
    "fig.show()"
   ]
  }
 ],
 "metadata": {
  "kernelspec": {
   "display_name": "Python 3",
   "language": "python",
   "name": "python3"
  },
  "language_info": {
   "name": "python",
   "version": "3.11"
  }
 },
 "nbformat": 4,
 "nbformat_minor": 5
}
