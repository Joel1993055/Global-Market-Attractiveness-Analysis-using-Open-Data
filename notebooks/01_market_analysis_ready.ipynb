{
 "cells": [
  {
   "cell_type": "markdown",
   "id": "c56a33bc",
   "metadata": {},
   "source": [
    "# 🌍 Global Market Attractiveness Analysis\n",
    "\n",
    "This notebook analyzes key socio-economic indicators to evaluate the attractiveness of international markets using data from the World Bank and Our World in Data."
   ]
  },
  {
   "cell_type": "code",
   "execution_count": null,
   "id": "fda3ffdf",
   "metadata": {},
   "outputs": [],
   "source": [
    "# ✅ Automatically download CSV files from GitHub if running in Colab\n",
    "!mkdir -p data\n",
    "base_url = \"https://raw.githubusercontent.com/Joel1993055/Global-Market-Attractiveness-Analysis-using-Open-Data/main/data/\"\n",
    "\n",
    "files = [\n",
    "    \"API_NY.GDP.MKTP.CD_DS2_en_csv_v2_370168.csv\",\n",
    "    \"API_NY.GDP.MKTP.KD.ZG_DS2_en_csv_v2_369935.csv\",\n",
    "    \"API_SP.POP.TOTL_DS2_en_csv_v2_370004.csv\",\n",
    "    \"share-of-individuals-using-the-internet.csv\"\n",
    "]\n",
    "\n",
    "for file in files:\n",
    "    !wget -q \"{base_url}{file}\" -O \"data/{file}\"\n"
   ]
  },
  {
   "cell_type": "code",
   "execution_count": null,
   "id": "ee7d3f0f",
   "metadata": {},
   "outputs": [],
   "source": [
    "import pandas as pd\n",
    "from sklearn.preprocessing import MinMaxScaler\n",
    "import plotly.express as px"
   ]
  },
  {
   "cell_type": "code",
   "execution_count": null,
   "id": "6c6b7a81",
   "metadata": {},
   "outputs": [],
   "source": [
    "df_gdp = pd.read_csv('data/API_NY.GDP.MKTP.CD_DS2_en_csv_v2_370168.csv', skiprows=4)\n",
    "df_growth = pd.read_csv('data/API_NY.GDP.MKTP.KD.ZG_DS2_en_csv_v2_369935.csv', skiprows=4)\n",
    "df_population = pd.read_csv('data/API_SP.POP.TOTL_DS2_en_csv_v2_370004.csv', skiprows=4)\n",
    "df_internet = pd.read_csv('data/share-of-individuals-using-the-internet.csv')"
   ]
  },
  {
   "cell_type": "code",
   "execution_count": null,
   "id": "3e9fccd5",
   "metadata": {},
   "outputs": [],
   "source": [
    "latest_year = '2022'\n",
    "\n",
    "df_gdp_clean = df_gdp[['Country Name', latest_year]].rename(columns={latest_year: 'GDP'})\n",
    "df_growth_clean = df_growth[['Country Name', latest_year]].rename(columns={latest_year: 'GDP_growth'})\n",
    "df_population_clean = df_population[['Country Name', latest_year]].rename(columns={latest_year: 'Population'})\n",
    "\n",
    "df_internet_clean = df_internet[df_internet['Year'] == 2022][['Entity', 'Individuals using the Internet (% of population)']]\n",
    "df_internet_clean = df_internet_clean.rename(columns={'Entity': 'Country Name', 'Individuals using the Internet (% of population)': 'Internet_Usage'})\n"
   ]
  },
  {
   "cell_type": "code",
   "execution_count": null,
   "id": "b667e999",
   "metadata": {},
   "outputs": [],
   "source": [
    "df_merged = df_gdp_clean.merge(df_growth_clean, on='Country Name')\\\n",
    "                         .merge(df_population_clean, on='Country Name')\\\n",
    "                         .merge(df_internet_clean, on='Country Name')\n",
    "\n",
    "df_merged = df_merged.dropna()\n",
    "df_merged.head()"
   ]
  },
  {
   "cell_type": "code",
   "execution_count": null,
   "id": "776e6aa4",
   "metadata": {},
   "outputs": [],
   "source": [
    "scaler = MinMaxScaler()\n",
    "df_scaled = df_merged.copy()\n",
    "df_scaled[['GDP_norm', 'GDP_growth_norm', 'Population_norm', 'Internet_Usage_norm']] = scaler.fit_transform(\n",
    "    df_scaled[['GDP', 'GDP_growth', 'Population', 'Internet_Usage']]\n",
    ")\n",
    "df_scaled.head()"
   ]
  },
  {
   "cell_type": "code",
   "execution_count": null,
   "id": "c56cec15",
   "metadata": {},
   "outputs": [],
   "source": [
    "fig = px.scatter(df_scaled, \n",
    "                 x='GDP_norm', y='Internet_Usage_norm', \n",
    "                 size='Population_norm', \n",
    "                 color='GDP_growth_norm',\n",
    "                 hover_name='Country Name',\n",
    "                 title='Global Market Attractiveness: GDP vs Internet Usage')\n",
    "fig.show()"
   ]
  }
 ],
 "metadata": {},
 "nbformat": 4,
 "nbformat_minor": 5
}
